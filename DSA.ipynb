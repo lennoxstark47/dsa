{
 "cells": [
  {
   "cell_type": "markdown",
   "id": "b651c712",
   "metadata": {},
   "source": [
    "## Recursion"
   ]
  },
  {
   "cell_type": "code",
   "execution_count": 9,
   "id": "21df271d",
   "metadata": {},
   "outputs": [
    {
     "name": "stdout",
     "output_type": "stream",
     "text": [
      "5\n",
      "1\n",
      "2\n",
      "3\n",
      "4\n",
      "5\n"
     ]
    }
   ],
   "source": [
    "n = int(input())\n",
    "\n",
    "def print_1_to_n(n):\n",
    "    if n == 0:\n",
    "        return\n",
    "    print_1_to_n(n-1)\n",
    "    print(n)\n",
    "    return\n",
    "\n",
    "print_1_to_n(n)"
   ]
  },
  {
   "cell_type": "code",
   "execution_count": 10,
   "id": "1b4be665",
   "metadata": {},
   "outputs": [
    {
     "name": "stdout",
     "output_type": "stream",
     "text": [
      "1\n",
      "2\n",
      "3\n",
      "4\n",
      "5\n"
     ]
    }
   ],
   "source": [
    "print_1_to_n(5)"
   ]
  },
  {
   "cell_type": "code",
   "execution_count": 11,
   "id": "2de0cb82",
   "metadata": {},
   "outputs": [],
   "source": [
    "def print_n_to_1(n):\n",
    "    if n == 0:\n",
    "        return\n",
    "    print(n)\n",
    "    print_n_to_1(n-1)\n",
    "    "
   ]
  },
  {
   "cell_type": "code",
   "execution_count": 12,
   "id": "eb699afc",
   "metadata": {},
   "outputs": [
    {
     "name": "stdout",
     "output_type": "stream",
     "text": [
      "10\n",
      "9\n",
      "8\n",
      "7\n",
      "6\n",
      "5\n",
      "4\n",
      "3\n",
      "2\n",
      "1\n"
     ]
    }
   ],
   "source": [
    "print_n_to_1(10)"
   ]
  },
  {
   "cell_type": "code",
   "execution_count": 6,
   "id": "6a1d75cf",
   "metadata": {},
   "outputs": [
    {
     "data": {
      "text/plain": [
       "1"
      ]
     },
     "execution_count": 6,
     "metadata": {},
     "output_type": "execute_result"
    }
   ],
   "source": [
    "1 % 10"
   ]
  },
  {
   "cell_type": "code",
   "execution_count": 2,
   "id": "0cfd4412",
   "metadata": {},
   "outputs": [
    {
     "data": {
      "text/plain": [
       "2"
      ]
     },
     "execution_count": 2,
     "metadata": {},
     "output_type": "execute_result"
    }
   ],
   "source": [
    "132%10\n"
   ]
  },
  {
   "cell_type": "markdown",
   "id": "cb73016a",
   "metadata": {},
   "source": [
    "## Binary Search"
   ]
  },
  {
   "cell_type": "code",
   "execution_count": 10,
   "id": "8a3b5d96",
   "metadata": {},
   "outputs": [],
   "source": [
    "def binarySearch(arr,x,si,ei):\n",
    "    if (si > ei):\n",
    "        return print('The element is not in the list')\n",
    "    \n",
    "    mid = (si+ei)//2\n",
    "    if arr[mid] == x:\n",
    "        return mid\n",
    "    elif (arr[mid] > x):\n",
    "        return binarySearch(arr,x,si,(mid - 1))\n",
    "    else:\n",
    "        return binarySearch(arr,x,mid + 1,ei)\n",
    "            "
   ]
  },
  {
   "cell_type": "code",
   "execution_count": 13,
   "id": "4609d013",
   "metadata": {},
   "outputs": [
    {
     "data": {
      "text/plain": [
       "1"
      ]
     },
     "execution_count": 13,
     "metadata": {},
     "output_type": "execute_result"
    }
   ],
   "source": [
    "binarySearch([1,3,5,7,9],3,0,4)"
   ]
  },
  {
   "cell_type": "markdown",
   "id": "25f8c2fd",
   "metadata": {},
   "source": [
    "## Palindrome"
   ]
  },
  {
   "cell_type": "code",
   "execution_count": 2,
   "id": "fe7eeb15",
   "metadata": {},
   "outputs": [],
   "source": [
    "def p_checker(s,si,ei):\n",
    "    if si == ei or si > ei or len(s) < 2:\n",
    "        return False\n",
    "    if s[si] == s[ei]:\n",
    "        return True\n",
    "    else:\n",
    "        return False\n",
    "    p_checker(s,si+1,ei-1)"
   ]
  },
  {
   "cell_type": "code",
   "execution_count": 4,
   "id": "7f0731da",
   "metadata": {},
   "outputs": [
    {
     "data": {
      "text/plain": [
       "False"
      ]
     },
     "execution_count": 4,
     "metadata": {},
     "output_type": "execute_result"
    }
   ],
   "source": [
    "s = 'a'\n",
    "p_checker(s,0,len(s)-1)"
   ]
  },
  {
   "cell_type": "markdown",
   "id": "c0727940",
   "metadata": {},
   "source": [
    "## Sum of number in a given integer"
   ]
  },
  {
   "cell_type": "code",
   "execution_count": 13,
   "id": "d9fc45e3",
   "metadata": {},
   "outputs": [
    {
     "data": {
      "text/plain": [
       "6"
      ]
     },
     "execution_count": 13,
     "metadata": {},
     "output_type": "execute_result"
    }
   ],
   "source": [
    "123456 % 10"
   ]
  },
  {
   "cell_type": "code",
   "execution_count": 20,
   "id": "4d391341",
   "metadata": {},
   "outputs": [],
   "source": [
    "def sum_of_numbers(n):\n",
    "    if n == 0:\n",
    "        return 0\n",
    "    \n",
    "    return n % 10 + sum_of_numbers(int(n / 10))\n",
    "    "
   ]
  },
  {
   "cell_type": "code",
   "execution_count": 23,
   "id": "f9437a2c",
   "metadata": {},
   "outputs": [
    {
     "data": {
      "text/plain": [
       "4"
      ]
     },
     "execution_count": 23,
     "metadata": {},
     "output_type": "execute_result"
    }
   ],
   "source": [
    "sum_of_numbers(13)"
   ]
  },
  {
   "cell_type": "markdown",
   "id": "2df2e84d",
   "metadata": {},
   "source": [
    "## Zeros present in a number"
   ]
  },
  {
   "cell_type": "code",
   "execution_count": null,
   "id": "7aa3987b",
   "metadata": {},
   "outputs": [],
   "source": []
  }
 ],
 "metadata": {
  "kernelspec": {
   "display_name": "Python 3",
   "language": "python",
   "name": "python3"
  },
  "language_info": {
   "codemirror_mode": {
    "name": "ipython",
    "version": 3
   },
   "file_extension": ".py",
   "mimetype": "text/x-python",
   "name": "python",
   "nbconvert_exporter": "python",
   "pygments_lexer": "ipython3",
   "version": "3.8.8"
  }
 },
 "nbformat": 4,
 "nbformat_minor": 5
}
