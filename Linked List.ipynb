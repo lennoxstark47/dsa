{
 "cells": [
  {
   "cell_type": "code",
   "execution_count": 3,
   "id": "2aa3512e",
   "metadata": {},
   "outputs": [
    {
     "name": "stdout",
     "output_type": "stream",
     "text": [
      "20 10 "
     ]
    }
   ],
   "source": [
    "class Node:\n",
    "    def __init__(self, data):\n",
    "        self.data = data\n",
    "        self.next = None\n",
    "def printLL(head):\n",
    "    while head is not None:\n",
    "        print(head.data,end=\" \")\n",
    "        head = head.next\n",
    "\n",
    "\n",
    "\n",
    "node1 = Node(10)\n",
    "node2 = Node(20)\n",
    "node2.next = node1\n",
    "printLL(node2)"
   ]
  },
  {
   "cell_type": "code",
   "execution_count": 4,
   "id": "d39cafde",
   "metadata": {},
   "outputs": [
    {
     "name": "stdout",
     "output_type": "stream",
     "text": [
      "10 20 "
     ]
    }
   ],
   "source": [
    "class Node2:\n",
    "    def __init__(self,data):\n",
    "        self.data = data\n",
    "        self.next = None\n",
    "def printLL(head):\n",
    "    while head is not None:\n",
    "        print(head.data, end=\" \")\n",
    "        head = head.next\n",
    "        \n",
    "node1 = Node2(10)\n",
    "node2 = Node2(20)\n",
    "\n",
    "node1.next = node2\n",
    "printLL(node1)"
   ]
  },
  {
   "cell_type": "code",
   "execution_count": 5,
   "id": "fe6bd560",
   "metadata": {},
   "outputs": [
    {
     "name": "stdout",
     "output_type": "stream",
     "text": [
      "20 30 40 "
     ]
    }
   ],
   "source": [
    "class Node:\n",
    "    def __init__(self, data):\n",
    "        self.data = data\n",
    "        self.next = None\n",
    "def printLL(head):\n",
    "    while head is not None:\n",
    "        print(head.data,end=\" \")\n",
    "        head = head.next\n",
    "\n",
    "\n",
    "\n",
    "node1 = Node(10)\n",
    "node2 = Node(20)\n",
    "node3 = Node(30)\n",
    "node4 = Node(40)\n",
    "node1.next = node2\n",
    "node2.next = node3\n",
    "node3.next = node4\n",
    "printLL(node2)"
   ]
  },
  {
   "cell_type": "code",
   "execution_count": 6,
   "id": "2e43f488",
   "metadata": {},
   "outputs": [
    {
     "name": "stdout",
     "output_type": "stream",
     "text": [
      "1 2 3 4 5 6\n"
     ]
    }
   ],
   "source": [
    "li = input()\n",
    "arr = li.split()\n"
   ]
  },
  {
   "cell_type": "code",
   "execution_count": 7,
   "id": "842e42c9",
   "metadata": {},
   "outputs": [
    {
     "name": "stdout",
     "output_type": "stream",
     "text": [
      "['1', '2', '3', '4', '5', '6']\n"
     ]
    }
   ],
   "source": [
    "print(arr)"
   ]
  },
  {
   "cell_type": "code",
   "execution_count": 8,
   "id": "ad660886",
   "metadata": {},
   "outputs": [],
   "source": [
    "arrint = [int(x) for x in arr]\n"
   ]
  },
  {
   "cell_type": "code",
   "execution_count": 9,
   "id": "39b29eaf",
   "metadata": {},
   "outputs": [
    {
     "name": "stdout",
     "output_type": "stream",
     "text": [
      "[1, 2, 3, 4, 5, 6]\n"
     ]
    }
   ],
   "source": [
    "print(arrint)"
   ]
  },
  {
   "cell_type": "markdown",
   "id": "08f85070",
   "metadata": {},
   "source": [
    "# linked list creation and printing (Un-Optimized)"
   ]
  },
  {
   "cell_type": "code",
   "execution_count": 10,
   "id": "bebd05b5",
   "metadata": {},
   "outputs": [],
   "source": [
    "class Node:\n",
    "    def __init__(self,data):\n",
    "        self.data = data\n",
    "        self.next = None #By default its set to none\n",
    "        \n",
    "def takeInput():\n",
    "    inputList = [int(ele) for ele  in input().split()]\n",
    "    head = None\n",
    "    for currData in inputList: #for iterating every element in inputList\n",
    "        if currData == -1: #so that the loop breaks at -1\n",
    "            break\n",
    "        newNode = Node(currData) # making the element in the inputList a node\n",
    "        if head is None: # by default for the first element head is none\n",
    "            head = newNode # so we are setting head to the first element\n",
    "        else:\n",
    "            curr = head # this is to ensure that head never leaves the first element, \n",
    "                                                #rather something else carry the head for the progam\n",
    "            while curr.next is not None:\n",
    "                curr = curr.next\n",
    "            curr.next = newNode\n",
    "    return head\n",
    "\n",
    "def printLL(head):\n",
    "    while head is not None:\n",
    "        print(str(head.data) + '->',end=\"\")\n",
    "        head = head.next\n",
    "    print(\"None\")"
   ]
  },
  {
   "cell_type": "code",
   "execution_count": 6,
   "id": "826c05bd",
   "metadata": {},
   "outputs": [
    {
     "name": "stdout",
     "output_type": "stream",
     "text": [
      "1 2 3 \n",
      "1->2->3->None\n"
     ]
    }
   ],
   "source": [
    "head = takeInput()\n",
    "printLL(head)"
   ]
  },
  {
   "cell_type": "markdown",
   "id": "58e4bf4c",
   "metadata": {},
   "source": [
    "# linked list creation and printing(optimized)"
   ]
  },
  {
   "cell_type": "code",
   "execution_count": 20,
   "id": "b5986fad",
   "metadata": {},
   "outputs": [],
   "source": [
    "def takeInput():\n",
    "    inputList = [int(ele) for ele in input().split()]\n",
    "    head = None\n",
    "    tail = None\n",
    "    for currData in inputList:\n",
    "        if currData == -1:\n",
    "            break\n",
    "        newNode = Node(currData)\n",
    "        if head is None:\n",
    "            head = newNode\n",
    "            tail = newNode\n",
    "        else:\n",
    "            tail.next = newNode\n",
    "            tail = newNode\n",
    "            \n",
    "    return head\n",
    "\n",
    "\n",
    "\n",
    "\n",
    "def printLL(head):\n",
    "    while head is not None:\n",
    "        print(str(head.data) + '->',end=\"\")\n",
    "        head = head.next\n",
    "    print(\"None\")\n",
    "\n"
   ]
  },
  {
   "cell_type": "code",
   "execution_count": 21,
   "id": "3f70ea91",
   "metadata": {},
   "outputs": [
    {
     "name": "stdout",
     "output_type": "stream",
     "text": [
      "1 2 3 4 5 6\n",
      "1->2->3->4->5->6->None\n"
     ]
    }
   ],
   "source": [
    "head = takeInput()\n",
    "printLL(head)"
   ]
  },
  {
   "cell_type": "markdown",
   "id": "747bd623",
   "metadata": {},
   "source": [
    "# Length of a linked list"
   ]
  },
  {
   "cell_type": "code",
   "execution_count": 22,
   "id": "a9fc396a",
   "metadata": {},
   "outputs": [],
   "source": [
    "def length(head):\n",
    "    \n",
    "    curr = head\n",
    "    \n",
    "    cnt = 0\n",
    "    while curr is not None:\n",
    "        cnt += 1\n",
    "        curr = curr.next\n",
    "        \n",
    "    return print(cnt)\n"
   ]
  },
  {
   "cell_type": "code",
   "execution_count": 23,
   "id": "768b7498",
   "metadata": {},
   "outputs": [
    {
     "name": "stdout",
     "output_type": "stream",
     "text": [
      "6\n"
     ]
    }
   ],
   "source": [
    "length(head)"
   ]
  },
  {
   "cell_type": "markdown",
   "id": "5ce40761",
   "metadata": {},
   "source": [
    "# Printing ith node"
   ]
  },
  {
   "cell_type": "code",
   "execution_count": 27,
   "id": "7d93cd2e",
   "metadata": {},
   "outputs": [],
   "source": [
    "def printIthNode(head,i):\n",
    "    cnt = 0\n",
    "    while head is not None:\n",
    "        if cnt == i:\n",
    "            return head.data\n",
    "        head = head.next\n",
    "        cnt += 1"
   ]
  },
  {
   "cell_type": "code",
   "execution_count": 28,
   "id": "36953878",
   "metadata": {},
   "outputs": [
    {
     "data": {
      "text/plain": [
       "1"
      ]
     },
     "execution_count": 28,
     "metadata": {},
     "output_type": "execute_result"
    }
   ],
   "source": [
    "printIthNode(head,0)"
   ]
  },
  {
   "cell_type": "code",
   "execution_count": null,
   "id": "c8623669",
   "metadata": {},
   "outputs": [],
   "source": []
  }
 ],
 "metadata": {
  "kernelspec": {
   "display_name": "Python 3",
   "language": "python",
   "name": "python3"
  },
  "language_info": {
   "codemirror_mode": {
    "name": "ipython",
    "version": 3
   },
   "file_extension": ".py",
   "mimetype": "text/x-python",
   "name": "python",
   "nbconvert_exporter": "python",
   "pygments_lexer": "ipython3",
   "version": "3.8.8"
  }
 },
 "nbformat": 4,
 "nbformat_minor": 5
}
