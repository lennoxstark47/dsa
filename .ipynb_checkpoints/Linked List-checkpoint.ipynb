{
 "cells": [
  {
   "cell_type": "markdown",
   "id": "c7f378a3",
   "metadata": {},
   "source": [
    "# Simple Linked List Creation"
   ]
  },
  {
   "cell_type": "code",
   "execution_count": 5,
   "id": "3d1096be",
   "metadata": {},
   "outputs": [],
   "source": [
    "class Node():\n",
    "    def __init__(self,data):\n",
    "        self.data = data\n",
    "        self.next = None\n",
    "def printLL(head):\n",
    "    while head is not None:\n",
    "        print(head.data,end=\" \")\n",
    "        head = head.next\n"
   ]
  },
  {
   "cell_type": "code",
   "execution_count": 7,
   "id": "7f189dc0",
   "metadata": {},
   "outputs": [
    {
     "name": "stdout",
     "output_type": "stream",
     "text": [
      "10 20 30 "
     ]
    }
   ],
   "source": [
    "node1 = Node(10)\n",
    "node2 = Node(20)\n",
    "node3 = Node(30)\n",
    "node1.next = node2\n",
    "node2.next = node3\n",
    "printLL(node1)"
   ]
  },
  {
   "cell_type": "code",
   "execution_count": 4,
   "id": "2fd0f95a",
   "metadata": {},
   "outputs": [
    {
     "data": {
      "text/plain": [
       "10"
      ]
     },
     "execution_count": 4,
     "metadata": {},
     "output_type": "execute_result"
    }
   ],
   "source": [
    "node1.data"
   ]
  },
  {
   "cell_type": "code",
   "execution_count": null,
   "id": "32a2db5b",
   "metadata": {},
   "outputs": [],
   "source": []
  }
 ],
 "metadata": {
  "kernelspec": {
   "display_name": "Python 3",
   "language": "python",
   "name": "python3"
  },
  "language_info": {
   "codemirror_mode": {
    "name": "ipython",
    "version": 3
   },
   "file_extension": ".py",
   "mimetype": "text/x-python",
   "name": "python",
   "nbconvert_exporter": "python",
   "pygments_lexer": "ipython3",
   "version": "3.8.8"
  }
 },
 "nbformat": 4,
 "nbformat_minor": 5
}
