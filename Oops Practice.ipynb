{
 "cells": [
  {
   "cell_type": "markdown",
   "id": "0eafacbd",
   "metadata": {},
   "source": [
    "# Simple Class"
   ]
  },
  {
   "cell_type": "code",
   "execution_count": 1,
   "id": "f3d4ec63",
   "metadata": {},
   "outputs": [],
   "source": [
    "class Car:\n",
    "    color = 'Black'\n",
    "    def __init__(self,name,topSpeed):\n",
    "        self.name = name\n",
    "        self.topSpeed = topSpeed"
   ]
  },
  {
   "cell_type": "code",
   "execution_count": 2,
   "id": "db60afc6",
   "metadata": {},
   "outputs": [],
   "source": [
    "c1 = Car('i20',200)"
   ]
  },
  {
   "cell_type": "code",
   "execution_count": 3,
   "id": "fdda57c7",
   "metadata": {},
   "outputs": [
    {
     "data": {
      "text/plain": [
       "{'name': 'i20', 'topSpeed': 200}"
      ]
     },
     "execution_count": 3,
     "metadata": {},
     "output_type": "execute_result"
    }
   ],
   "source": [
    "c1.__dict__\n"
   ]
  },
  {
   "cell_type": "code",
   "execution_count": 4,
   "id": "69e76054",
   "metadata": {},
   "outputs": [
    {
     "data": {
      "text/plain": [
       "'i20'"
      ]
     },
     "execution_count": 4,
     "metadata": {},
     "output_type": "execute_result"
    }
   ],
   "source": [
    "c1.name"
   ]
  },
  {
   "cell_type": "code",
   "execution_count": 5,
   "id": "50f7f3a9",
   "metadata": {},
   "outputs": [
    {
     "data": {
      "text/plain": [
       "200"
      ]
     },
     "execution_count": 5,
     "metadata": {},
     "output_type": "execute_result"
    }
   ],
   "source": [
    "c1.topSpeed"
   ]
  },
  {
   "cell_type": "code",
   "execution_count": 6,
   "id": "c5887071",
   "metadata": {},
   "outputs": [],
   "source": [
    "class Student:\n",
    "    \"Common base class for students\"\n",
    "    studentCount = 0\n",
    "    def __init__(self,rollno,name,course):\n",
    "        self.rollno = rollno\n",
    "        self.name = name\n",
    "        self.course = course\n",
    "        Student.studentCount += 1\n",
    "    def displaycount(self):\n",
    "        print('Total Student:',Student.studentCount)\n",
    "    def displayStudent(self):\n",
    "        print('Name: ', self.name)\n",
    "        print('Roll No: ', self.rollno)\n",
    "        print('Course: ', self.course)"
   ]
  },
  {
   "cell_type": "code",
   "execution_count": 7,
   "id": "1c12d233",
   "metadata": {},
   "outputs": [],
   "source": [
    "Twisam = Student(47,'Twisam','Full Stack Dev')"
   ]
  },
  {
   "cell_type": "code",
   "execution_count": 8,
   "id": "be0c9b97",
   "metadata": {},
   "outputs": [
    {
     "data": {
      "text/plain": [
       "1"
      ]
     },
     "execution_count": 8,
     "metadata": {},
     "output_type": "execute_result"
    }
   ],
   "source": [
    "Student.studentCount\n"
   ]
  },
  {
   "cell_type": "code",
   "execution_count": 9,
   "id": "4bf3c134",
   "metadata": {},
   "outputs": [
    {
     "data": {
      "text/plain": [
       "47"
      ]
     },
     "execution_count": 9,
     "metadata": {},
     "output_type": "execute_result"
    }
   ],
   "source": [
    "Twisam.rollno"
   ]
  },
  {
   "cell_type": "code",
   "execution_count": 10,
   "id": "a0523edd",
   "metadata": {},
   "outputs": [
    {
     "data": {
      "text/plain": [
       "'Twisam'"
      ]
     },
     "execution_count": 10,
     "metadata": {},
     "output_type": "execute_result"
    }
   ],
   "source": [
    "Twisam.name"
   ]
  },
  {
   "cell_type": "code",
   "execution_count": 11,
   "id": "16aaa12f",
   "metadata": {},
   "outputs": [
    {
     "data": {
      "text/plain": [
       "'Full Stack Dev'"
      ]
     },
     "execution_count": 11,
     "metadata": {},
     "output_type": "execute_result"
    }
   ],
   "source": [
    "Twisam.course"
   ]
  },
  {
   "cell_type": "code",
   "execution_count": 12,
   "id": "10d06c48",
   "metadata": {},
   "outputs": [
    {
     "name": "stdout",
     "output_type": "stream",
     "text": [
      "Name:  Twisam\n",
      "Roll No:  47\n",
      "Course:  Full Stack Dev\n"
     ]
    }
   ],
   "source": [
    "Twisam.displayStudent()"
   ]
  },
  {
   "cell_type": "markdown",
   "id": "e6def71e",
   "metadata": {},
   "source": [
    "# Data Hiding"
   ]
  },
  {
   "cell_type": "code",
   "execution_count": 13,
   "id": "8e39e08d",
   "metadata": {},
   "outputs": [],
   "source": [
    "class HidingDemo:\n",
    "    \"Program for hiding data\"\n",
    "    __num = 0\n",
    "    def numbercount(self):\n",
    "        self.__num += 1\n",
    "        print(\"Number Count=\", self.__num)\n"
   ]
  },
  {
   "cell_type": "code",
   "execution_count": 14,
   "id": "4a4d52a9",
   "metadata": {},
   "outputs": [
    {
     "name": "stdout",
     "output_type": "stream",
     "text": [
      "Number Count= 1\n"
     ]
    },
    {
     "ename": "AttributeError",
     "evalue": "'HidingDemo' object has no attribute '__num'",
     "output_type": "error",
     "traceback": [
      "\u001b[1;31m---------------------------------------------------------------------------\u001b[0m",
      "\u001b[1;31mAttributeError\u001b[0m                            Traceback (most recent call last)",
      "\u001b[1;32m<ipython-input-14-71acfc445dc7>\u001b[0m in \u001b[0;36m<module>\u001b[1;34m\u001b[0m\n\u001b[0;32m      1\u001b[0m \u001b[0mnumber\u001b[0m \u001b[1;33m=\u001b[0m \u001b[0mHidingDemo\u001b[0m\u001b[1;33m(\u001b[0m\u001b[1;33m)\u001b[0m\u001b[1;33m\u001b[0m\u001b[1;33m\u001b[0m\u001b[0m\n\u001b[0;32m      2\u001b[0m \u001b[0mnumber\u001b[0m\u001b[1;33m.\u001b[0m\u001b[0mnumbercount\u001b[0m\u001b[1;33m(\u001b[0m\u001b[1;33m)\u001b[0m\u001b[1;33m\u001b[0m\u001b[1;33m\u001b[0m\u001b[0m\n\u001b[1;32m----> 3\u001b[1;33m \u001b[0mprint\u001b[0m\u001b[1;33m(\u001b[0m\u001b[0mnumber\u001b[0m\u001b[1;33m.\u001b[0m\u001b[0m__num\u001b[0m\u001b[1;33m)\u001b[0m\u001b[1;33m\u001b[0m\u001b[1;33m\u001b[0m\u001b[0m\n\u001b[0m",
      "\u001b[1;31mAttributeError\u001b[0m: 'HidingDemo' object has no attribute '__num'"
     ]
    }
   ],
   "source": [
    "    number = HidingDemo()\n",
    "    number.numbercount()\n",
    "    print(number.__num)"
   ]
  },
  {
   "cell_type": "markdown",
   "id": "ed54beca",
   "metadata": {},
   "source": [
    "# Inheritence"
   ]
  },
  {
   "cell_type": "code",
   "execution_count": 1,
   "id": "4fca15b7",
   "metadata": {},
   "outputs": [],
   "source": [
    "class Student:\n",
    "    \"Common base class for all students\"\n",
    "\n",
    "    def getData(self,rollno,name,course):\n",
    "        self.rollno = rollno\n",
    "        self.name = name\n",
    "        self.course = course\n",
    "\n",
    "    def displayStudent(self):\n",
    "        print('Name: ', self.name)\n",
    "        print('Roll No: ', self.rollno)\n",
    "        print('Course: ', self.course)\n",
    "        "
   ]
  },
  {
   "cell_type": "markdown",
   "id": "28bfa3d9",
   "metadata": {},
   "source": [
    "### Inheritence Class"
   ]
  },
  {
   "cell_type": "code",
   "execution_count": 2,
   "id": "1bc6c1e2",
   "metadata": {},
   "outputs": [],
   "source": [
    "class Test(Student):\n",
    "    def getMarks(self,marks):\n",
    "        self.marks = marks\n",
    "    def displayMarks(self):\n",
    "        print(\"Total marks:\", self.marks)\n",
    "\n",
    "\n"
   ]
  },
  {
   "cell_type": "code",
   "execution_count": 3,
   "id": "d39418cc",
   "metadata": {},
   "outputs": [
    {
     "name": "stdout",
     "output_type": "stream",
     "text": [
      "Result\n",
      "Name:  twisam\n",
      "Roll No:  47\n",
      "Course:  ms\n",
      "Total marks: 47\n"
     ]
    }
   ],
   "source": [
    "    r = int(input(\"Enter roll no:\"))\n",
    "    n = input(\"Enter Name:\")\n",
    "    c = input(\"Enter a course\")\n",
    "    m = int(input(\"Enter marks:\"))\n",
    "    #Creating the object\n",
    "    print(\"Result\")\n",
    "    stud1 = Test() #Instance of a child\n",
    "    stud1.getData(r,n,c)\n",
    "    stud1.getMarks(m)\n",
    "    stud1.displayStudent()\n",
    "    stud1.displayMarks()"
   ]
  },
  {
   "cell_type": "markdown",
   "id": "186b4a2a",
   "metadata": {},
   "source": [
    "# Class to determine perimeter and area of a rectangle"
   ]
  },
  {
   "cell_type": "code",
   "execution_count": 20,
   "id": "37294202",
   "metadata": {},
   "outputs": [],
   "source": [
    "class Reactangle:\n",
    "    def getData(self,length,breadth):\n",
    "        self.length = length\n",
    "        self.breadth = breadth\n",
    "\n",
    "    def getArea(self):\n",
    "        a = self.length*self.breadth\n",
    "        print('The area of the Reactangle having length', self.length, 'and breadth', self.breadth, 'is:', a )\n",
    "\n",
    "    def getPerimeter(self):\n",
    "        p = 2*(self.length+self.breadth)\n",
    "        print('The perimeter of the Reactangle having length', self.length, 'and breadth', self.breadth, 'is:', p )\n"
   ]
  },
  {
   "cell_type": "code",
   "execution_count": 24,
   "id": "5a240f2c",
   "metadata": {},
   "outputs": [
    {
     "name": "stdout",
     "output_type": "stream",
     "text": [
      "The area of the Reactangle having length 20 and breadth 20 is: 400\n",
      "The perimeter of the Reactangle having length 20 and breadth 20 is: 80\n",
      "Wrong Choice\n"
     ]
    }
   ],
   "source": [
    "ch = 0\n",
    "l = int(input(\"Enter the length:\"))\n",
    "b = int(input(\"Enter the breadth:\"))\n",
    "\n",
    "obj = Reactangle()\n",
    "obj.getData(l,b)\n",
    "\n",
    "\n",
    "while ch != 3:\n",
    "    ch = int(input(\"1: Calculate the area \\n2:Calculate the Perimeter \\n3:Exit \"))\n",
    "    if ch == 1:\n",
    "        obj.getArea()\n",
    "    elif ch == 2:\n",
    "        obj.getPerimeter()\n",
    "    else:\n",
    "        print(\"Wrong Choice\")\n"
   ]
  },
  {
   "cell_type": "markdown",
   "id": "4f1cb13a",
   "metadata": {},
   "source": [
    "### Multiple Inheritence"
   ]
  },
  {
   "cell_type": "code",
   "execution_count": 6,
   "id": "1b514639",
   "metadata": {},
   "outputs": [],
   "source": [
    "class Student:\n",
    "    \"Common base class for all students\"\n",
    "\n",
    "    def getData(self,rollno,name,course):\n",
    "        self.rollno = rollno\n",
    "        self.name = name\n",
    "        self.course = course\n",
    "\n",
    "    def displayStudent(self):\n",
    "        print('Name: ', self.name)\n",
    "        print('Roll No: ', self.rollno)\n",
    "        print('Course: ', self.course)\n",
    "\n",
    "class Test(Student):\n",
    "    def getMarks(self,marks):\n",
    "        self.marks = marks\n",
    "    def displayMarks(self):\n",
    "        print(\"Total marks:\", self.marks)\n",
    "\n",
    "class Sports:\n",
    "    def getSportsMarks(self,spmarks):\n",
    "        self.spmarks = spmarks\n",
    "    def displaySportsMarks(self):\n",
    "        print(\"Sports Marks:\", self.spmarks)\n"
   ]
  },
  {
   "cell_type": "code",
   "execution_count": 8,
   "id": "797d2517",
   "metadata": {},
   "outputs": [],
   "source": [
    "class Result(Test,Sports):\n",
    "    def calculateGrade(self):\n",
    "        m = self.marks + self.spmarks\n",
    "\n",
    "        if m > 480:\n",
    "            self.grade = \"Distinction\"\n",
    "        elif m>360:\n",
    "            self.grade = \"First Class\"\n",
    "        elif m > 240 :\n",
    "            self.grade = \"Second Class\"\n",
    "        else:\n",
    "            self.grade = \"Failed\"\n",
    "        print(\"Result:\", self.grade)"
   ]
  },
  {
   "cell_type": "code",
   "execution_count": 11,
   "id": "41de58c7",
   "metadata": {},
   "outputs": [
    {
     "name": "stdout",
     "output_type": "stream",
     "text": [
      "Result\n",
      "Name:  Twisam\n",
      "Roll No:  47\n",
      "Course:  MS\n",
      "Total marks: 10\n",
      "Sports Marks: 20\n",
      "Result: Failed\n"
     ]
    }
   ],
   "source": [
    "    r = int(input(\"Enter roll no:\"))\n",
    "    n = input(\"Enter Name:\")\n",
    "    c = input(\"Enter a course\")\n",
    "    m = int(input(\"Enter marks:\"))\n",
    "    s = int(input(\"Enter Marks:\"))\n",
    "\n",
    "    print(\"Result\")\n",
    "    stud2 = Result() # Instance of a child\n",
    "    stud2.getData(r,n,c)\n",
    "    stud2.getMarks(m)\n",
    "    stud2.getSportsMarks(s)\n",
    "    stud2.displayStudent()\n",
    "    stud2.displayMarks()\n",
    "    stud2.displaySportsMarks()\n",
    "    stud2.calculateGrade()\n"
   ]
  },
  {
   "cell_type": "markdown",
   "id": "b9dc93db",
   "metadata": {},
   "source": [
    "## Operator Overloading"
   ]
  },
  {
   "cell_type": "code",
   "execution_count": 12,
   "id": "cec35936",
   "metadata": {},
   "outputs": [],
   "source": [
    "class Complex:\n",
    "    def __init__(self,r=0.0,i=0.0):\n",
    "        self._real = r\n",
    "        self._imag = i\n",
    "\n",
    "    def __add__(self,other):\n",
    "        z = Complex()\n",
    "        z._real  = self._real + other._real\n",
    "        z._imag = self._imag + other._imag\n",
    "        return z\n",
    "    def __sub__(self,other):\n",
    "        z = Complex()\n",
    "        z._real = self._real - other._real\n",
    "        z._imag = self._imag - other._imag\n",
    "        return z\n",
    "\n",
    "    def display(self):\n",
    "        print(self._real, self._imag)\n"
   ]
  },
  {
   "cell_type": "code",
   "execution_count": 13,
   "id": "85c67c59",
   "metadata": {},
   "outputs": [],
   "source": [
    "c1 = Complex(1.1,0.0)\n",
    "c2 = Complex(1.2,0.2)\n",
    "c3 = c1 + c2\n",
    "\n"
   ]
  },
  {
   "cell_type": "code",
   "execution_count": 14,
   "id": "68e129ea",
   "metadata": {},
   "outputs": [
    {
     "name": "stdout",
     "output_type": "stream",
     "text": [
      "2.3 0.2\n"
     ]
    }
   ],
   "source": [
    "c3.display()"
   ]
  },
  {
   "cell_type": "code",
   "execution_count": 15,
   "id": "21364774",
   "metadata": {},
   "outputs": [],
   "source": [
    "c4 = c2 - c1"
   ]
  },
  {
   "cell_type": "code",
   "execution_count": 16,
   "id": "812c491f",
   "metadata": {},
   "outputs": [
    {
     "name": "stdout",
     "output_type": "stream",
     "text": [
      "0.09999999999999987 0.2\n"
     ]
    }
   ],
   "source": [
    "c4.display()"
   ]
  },
  {
   "cell_type": "code",
   "execution_count": null,
   "id": "0ded9517",
   "metadata": {},
   "outputs": [],
   "source": []
  }
 ],
 "metadata": {
  "kernelspec": {
   "display_name": "Python 3 (ipykernel)",
   "language": "python",
   "name": "python3"
  },
  "language_info": {
   "codemirror_mode": {
    "name": "ipython",
    "version": 3
   },
   "file_extension": ".py",
   "mimetype": "text/x-python",
   "name": "python",
   "nbconvert_exporter": "python",
   "pygments_lexer": "ipython3",
   "version": "3.9.7"
  }
 },
 "nbformat": 4,
 "nbformat_minor": 5
}
