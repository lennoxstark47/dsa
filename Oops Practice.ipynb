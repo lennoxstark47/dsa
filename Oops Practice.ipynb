{
 "cells": [
  {
   "cell_type": "markdown",
   "id": "0eafacbd",
   "metadata": {},
   "source": [
    "# Simple Class"
   ]
  },
  {
   "cell_type": "code",
   "execution_count": 12,
   "id": "f3d4ec63",
   "metadata": {},
   "outputs": [],
   "source": [
    "class Car:\n",
    "    color = 'Black'\n",
    "    def __init__(self,name,topSpeed):\n",
    "        self.name = name\n",
    "        self.topSpeed = topSpeed"
   ]
  },
  {
   "cell_type": "code",
   "execution_count": 14,
   "id": "db60afc6",
   "metadata": {},
   "outputs": [],
   "source": [
    "c1 = Car('i20',200)"
   ]
  },
  {
   "cell_type": "code",
   "execution_count": 17,
   "id": "fdda57c7",
   "metadata": {},
   "outputs": [
    {
     "data": {
      "text/plain": [
       "{'name': 'i20', 'topSpeed': 200}"
      ]
     },
     "execution_count": 17,
     "metadata": {},
     "output_type": "execute_result"
    }
   ],
   "source": [
    "c1.__dict__\n"
   ]
  },
  {
   "cell_type": "code",
   "execution_count": 18,
   "id": "69e76054",
   "metadata": {},
   "outputs": [
    {
     "data": {
      "text/plain": [
       "'i20'"
      ]
     },
     "execution_count": 18,
     "metadata": {},
     "output_type": "execute_result"
    }
   ],
   "source": [
    "c1.name"
   ]
  },
  {
   "cell_type": "code",
   "execution_count": 19,
   "id": "50f7f3a9",
   "metadata": {},
   "outputs": [
    {
     "data": {
      "text/plain": [
       "200"
      ]
     },
     "execution_count": 19,
     "metadata": {},
     "output_type": "execute_result"
    }
   ],
   "source": [
    "c1.topSpeed"
   ]
  },
  {
   "cell_type": "markdown",
   "id": "8e5a3778",
   "metadata": {},
   "source": [
    "# Inheritence"
   ]
  },
  {
   "cell_type": "code",
   "execution_count": null,
   "id": "cd46f4ad",
   "metadata": {},
   "outputs": [],
   "source": [
    "class Polygon:\n",
    "    def __init__(self,no_of_sides):\n",
    "        self.n = no_of_sides\n",
    "        self.sides = [0 for i in range(no_of_sides)]\n",
    "        \n",
    "    def inputSides(self):\n",
    "        self.sides = "
   ]
  },
  {
   "cell_type": "code",
   "execution_count": 1,
   "id": "c5887071",
   "metadata": {},
   "outputs": [],
   "source": [
    "class Student:\n",
    "    \"Common base class for students\"\n",
    "    studentCount = 0\n",
    "    def __init__(self,rollno,name,course):\n",
    "        self.rollno = rollno\n",
    "        self.name = name\n",
    "        self.course = course\n",
    "        Student.studentCount += 1\n",
    "    def displaycount(self):\n",
    "        print('Total Student:',Student.studentCount)\n",
    "    def displayStudent(self):\n",
    "        print('Name: ', self.name)\n",
    "        print('Roll No: ', self.rollno)\n",
    "        print('Course: ', self.course)"
   ]
  },
  {
   "cell_type": "code",
   "execution_count": 3,
   "id": "1c12d233",
   "metadata": {},
   "outputs": [],
   "source": [
    "Twisam = Student(47,'Twisam','Full Stack Dev')"
   ]
  },
  {
   "cell_type": "code",
   "execution_count": 4,
   "id": "be0c9b97",
   "metadata": {},
   "outputs": [
    {
     "data": {
      "text/plain": [
       "1"
      ]
     },
     "execution_count": 4,
     "metadata": {},
     "output_type": "execute_result"
    }
   ],
   "source": [
    "Student.studentCount\n"
   ]
  },
  {
   "cell_type": "code",
   "execution_count": 10,
   "id": "4bf3c134",
   "metadata": {},
   "outputs": [
    {
     "data": {
      "text/plain": [
       "47"
      ]
     },
     "execution_count": 10,
     "metadata": {},
     "output_type": "execute_result"
    }
   ],
   "source": [
    "Twisam.rollno"
   ]
  },
  {
   "cell_type": "code",
   "execution_count": 11,
   "id": "a0523edd",
   "metadata": {},
   "outputs": [
    {
     "data": {
      "text/plain": [
       "'Twisam'"
      ]
     },
     "execution_count": 11,
     "metadata": {},
     "output_type": "execute_result"
    }
   ],
   "source": [
    "Twisam.name"
   ]
  },
  {
   "cell_type": "code",
   "execution_count": 12,
   "id": "16aaa12f",
   "metadata": {},
   "outputs": [
    {
     "data": {
      "text/plain": [
       "'Full Stack Dev'"
      ]
     },
     "execution_count": 12,
     "metadata": {},
     "output_type": "execute_result"
    }
   ],
   "source": [
    "Twisam.course"
   ]
  },
  {
   "cell_type": "code",
   "execution_count": null,
   "id": "10d06c48",
   "metadata": {},
   "outputs": [],
   "source": []
  }
 ],
 "metadata": {
  "kernelspec": {
   "display_name": "Python 3",
   "language": "python",
   "name": "python3"
  },
  "language_info": {
   "codemirror_mode": {
    "name": "ipython",
    "version": 3
   },
   "file_extension": ".py",
   "mimetype": "text/x-python",
   "name": "python",
   "nbconvert_exporter": "python",
   "pygments_lexer": "ipython3",
   "version": "3.8.8"
  }
 },
 "nbformat": 4,
 "nbformat_minor": 5
}
